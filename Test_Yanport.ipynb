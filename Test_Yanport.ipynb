{
  "nbformat": 4,
  "nbformat_minor": 0,
  "metadata": {
    "colab": {
      "name": "Test_Yanport.ipynb",
      "provenance": [],
      "authorship_tag": "ABX9TyPPOczky0+Wpe07taKv0jRd",
      "include_colab_link": true
    },
    "kernelspec": {
      "name": "python3",
      "display_name": "Python 3"
    },
    "language_info": {
      "name": "python"
    }
  },
  "cells": [
    {
      "cell_type": "markdown",
      "metadata": {
        "id": "view-in-github",
        "colab_type": "text"
      },
      "source": [
        "<a href=\"https://colab.research.google.com/github/SidouPrince/annonces_similaires/blob/main/Test_Yanport.ipynb\" target=\"_parent\"><img src=\"https://colab.research.google.com/assets/colab-badge.svg\" alt=\"Open In Colab\"/></a>"
      ]
    },
    {
      "cell_type": "markdown",
      "metadata": {
        "id": "lTbgnI9Sezvp"
      },
      "source": [
        "* crée avec google colab\n",
        "* j'ai importé le data set dans google colab '/content/nom_dataset' \n"
      ]
    },
    {
      "cell_type": "markdown",
      "metadata": {
        "id": "ipUK7ZzwfVkD"
      },
      "source": [
        "#Import libraries"
      ]
    },
    {
      "cell_type": "code",
      "metadata": {
        "colab": {
          "base_uri": "https://localhost:8080/"
        },
        "id": "R9XMCPQ0f4rk",
        "outputId": "6f0bcbbb-f1c2-4e89-9363-8917a49290a0"
      },
      "source": [
        "# Execute this before starting\n",
        "\n",
        "!pip install unidecode\n",
        "import spacy.cli\n",
        "spacy.cli.download(\"fr_core_news_md\")"
      ],
      "execution_count": 1,
      "outputs": [
        {
          "output_type": "stream",
          "text": [
            "Collecting unidecode\n",
            "\u001b[?25l  Downloading https://files.pythonhosted.org/packages/9e/25/723487ca2a52ebcee88a34d7d1f5a4b80b793f179ee0f62d5371938dfa01/Unidecode-1.2.0-py2.py3-none-any.whl (241kB)\n",
            "\u001b[K     |████████████████████████████████| 245kB 3.9MB/s \n",
            "\u001b[?25hInstalling collected packages: unidecode\n",
            "Successfully installed unidecode-1.2.0\n",
            "\u001b[38;5;2m✔ Download and installation successful\u001b[0m\n",
            "You can now load the model via spacy.load('fr_core_news_md')\n"
          ],
          "name": "stdout"
        }
      ]
    },
    {
      "cell_type": "code",
      "metadata": {
        "id": "VTVD-6aMe0Nb"
      },
      "source": [
        "import numpy as np\n",
        "import pandas as pd\n",
        "import matplotlib.pyplot as plt\n",
        "import seaborn as sns\n",
        "%matplotlib inline\n",
        "\n",
        "from sklearn.feature_extraction.text import TfidfVectorizer\n",
        "from sklearn.preprocessing import StandardScaler\n",
        "from sklearn.cluster import KMeans\n",
        "from sklearn.metrics import silhouette_score\n",
        "from scipy.interpolate import make_interp_spline\n",
        "from sklearn.decomposition import PCA\n",
        "\n",
        "import unidecode\n",
        "import re # Regular Expression (Regex) in Python\n",
        "from nltk.stem.snowball import FrenchStemmer\n",
        "import spacy\n",
        "import fr_core_news_md\n",
        "from spacy.lang.fr.stop_words import STOP_WORDS\n",
        "from spacy.tokens import Doc\n",
        "nlp = spacy.load('fr_core_news_md')"
      ],
      "execution_count": 3,
      "outputs": []
    },
    {
      "cell_type": "markdown",
      "metadata": {
        "id": "1zrY715nfpzS"
      },
      "source": [
        "# Load & Cleaning"
      ]
    },
    {
      "cell_type": "code",
      "metadata": {
        "colab": {
          "base_uri": "https://localhost:8080/",
          "height": 504
        },
        "id": "CMwgijULfonb",
        "outputId": "5757a921-ada3-45b1-ab2d-f8b471f6fdf7"
      },
      "source": [
        "df = pd.read_csv('/content/Dataset - Ads _ Levallois-Perret - 2019-08 - export-ads-levallois-perret-2019-08-27.csv')\n",
        "df.head(5)"
      ],
      "execution_count": 7,
      "outputs": [
        {
          "output_type": "execute_result",
          "data": {
            "text/html": [
              "<div>\n",
              "<style scoped>\n",
              "    .dataframe tbody tr th:only-of-type {\n",
              "        vertical-align: middle;\n",
              "    }\n",
              "\n",
              "    .dataframe tbody tr th {\n",
              "        vertical-align: top;\n",
              "    }\n",
              "\n",
              "    .dataframe thead th {\n",
              "        text-align: right;\n",
              "    }\n",
              "</style>\n",
              "<table border=\"1\" class=\"dataframe\">\n",
              "  <thead>\n",
              "    <tr style=\"text-align: right;\">\n",
              "      <th></th>\n",
              "      <th>ID</th>\n",
              "      <th>URL</th>\n",
              "      <th>CRAWL_SOURCE</th>\n",
              "      <th>PROPERTY_TYPE</th>\n",
              "      <th>NEW_BUILD</th>\n",
              "      <th>DESCRIPTION</th>\n",
              "      <th>IMAGES</th>\n",
              "      <th>SURFACE</th>\n",
              "      <th>LAND_SURFACE</th>\n",
              "      <th>BALCONY_SURFACE</th>\n",
              "      <th>TERRACE_SURFACE</th>\n",
              "      <th>ROOM_COUNT</th>\n",
              "      <th>BEDROOM_COUNT</th>\n",
              "      <th>BATHROOM_COUNT</th>\n",
              "      <th>LUNCHROOM_COUNT</th>\n",
              "      <th>TOILET_COUNT</th>\n",
              "      <th>FURNISHED</th>\n",
              "      <th>FIREPLACE</th>\n",
              "      <th>AIR_CONDITIONING</th>\n",
              "      <th>GARDEN</th>\n",
              "      <th>SWIMMING_POOL</th>\n",
              "      <th>BALCONY</th>\n",
              "      <th>TERRACE</th>\n",
              "      <th>CELLAR</th>\n",
              "      <th>PARKING</th>\n",
              "      <th>PARKING_COUNT</th>\n",
              "      <th>HEATING_TYPES</th>\n",
              "      <th>HEATING_MODE</th>\n",
              "      <th>FLOOR</th>\n",
              "      <th>FLOOR_COUNT</th>\n",
              "      <th>CONSTRUCTION_YEAR</th>\n",
              "      <th>ELEVATOR</th>\n",
              "      <th>CARETAKER</th>\n",
              "      <th>ENERGY_CONSUMPTION</th>\n",
              "      <th>GREENHOUSE_GAS_CONSUMPTION</th>\n",
              "      <th>MARKETING_TYPE</th>\n",
              "      <th>PRICE</th>\n",
              "      <th>PRICE_M2</th>\n",
              "      <th>PRICE_EVENTS</th>\n",
              "      <th>RENTAL_EXPENSES</th>\n",
              "      <th>RENTAL_EXPENSES_INCLUDED</th>\n",
              "      <th>DEPOSIT</th>\n",
              "      <th>FEES</th>\n",
              "      <th>FEES_INCLUDED</th>\n",
              "      <th>EXCLUSIVE_MANDATE</th>\n",
              "      <th>AGENCIES_UNWANTED</th>\n",
              "      <th>OCCUPIED</th>\n",
              "      <th>DEALER_NAME</th>\n",
              "      <th>DEALER_TYPE</th>\n",
              "      <th>CITY_ID</th>\n",
              "      <th>CITY</th>\n",
              "      <th>ZIP_CODE</th>\n",
              "      <th>DEPT_CODE</th>\n",
              "      <th>PUBLICATION_START_DATE</th>\n",
              "      <th>PUBLICATION_END_DATE</th>\n",
              "      <th>LAST_CRAWL_DATE</th>\n",
              "      <th>LAST_PRICE_DECREASE_DATE</th>\n",
              "    </tr>\n",
              "  </thead>\n",
              "  <tbody>\n",
              "    <tr>\n",
              "      <th>0</th>\n",
              "      <td>22c05930-0eb5-11e7-b53d-bbead8ba43fe</td>\n",
              "      <td>http://www.avendrealouer.fr/location/levallois...</td>\n",
              "      <td>A_VENDRE_A_LOUER</td>\n",
              "      <td>APARTMENT</td>\n",
              "      <td>False</td>\n",
              "      <td>Au rez de chaussée d'un bel immeuble récent,ap...</td>\n",
              "      <td>[\"https://cf-medias.avendrealouer.fr/image/_87...</td>\n",
              "      <td>72.0</td>\n",
              "      <td>NaN</td>\n",
              "      <td>NaN</td>\n",
              "      <td>NaN</td>\n",
              "      <td>3.0</td>\n",
              "      <td>NaN</td>\n",
              "      <td>NaN</td>\n",
              "      <td>NaN</td>\n",
              "      <td>NaN</td>\n",
              "      <td>False</td>\n",
              "      <td>NaN</td>\n",
              "      <td>NaN</td>\n",
              "      <td>NaN</td>\n",
              "      <td>NaN</td>\n",
              "      <td>NaN</td>\n",
              "      <td>NaN</td>\n",
              "      <td>NaN</td>\n",
              "      <td>True</td>\n",
              "      <td>1.0</td>\n",
              "      <td>[]</td>\n",
              "      <td>COLLECTIVE</td>\n",
              "      <td>NaN</td>\n",
              "      <td>NaN</td>\n",
              "      <td>NaN</td>\n",
              "      <td>True</td>\n",
              "      <td>NaN</td>\n",
              "      <td>NaN</td>\n",
              "      <td>NaN</td>\n",
              "      <td>RENT</td>\n",
              "      <td>1979.0</td>\n",
              "      <td>27.49</td>\n",
              "      <td>[{\"price\":1979,\"date\":\"2017-03-22\"}]</td>\n",
              "      <td>276.0</td>\n",
              "      <td>True</td>\n",
              "      <td>NaN</td>\n",
              "      <td>NaN</td>\n",
              "      <td>NaN</td>\n",
              "      <td>False</td>\n",
              "      <td>NaN</td>\n",
              "      <td>NaN</td>\n",
              "      <td>Lamirand Et Associes</td>\n",
              "      <td>AGENCY</td>\n",
              "      <td>54178039</td>\n",
              "      <td>Levallois-Perret</td>\n",
              "      <td>92300.0</td>\n",
              "      <td>92</td>\n",
              "      <td>2017-03-22T04:07:56.095</td>\n",
              "      <td>NaN</td>\n",
              "      <td>2017-04-21T18:52:35.733</td>\n",
              "      <td>NaN</td>\n",
              "    </tr>\n",
              "    <tr>\n",
              "      <th>1</th>\n",
              "      <td>8d092fa0-bb99-11e8-a7c9-852783b5a69d</td>\n",
              "      <td>https://www.bienici.com/annonce/ag440414-16547...</td>\n",
              "      <td>BIEN_ICI</td>\n",
              "      <td>APARTMENT</td>\n",
              "      <td>False</td>\n",
              "      <td>Je vous propose un appartement dans la rue Col...</td>\n",
              "      <td>[\"http://photos.ubiflow.net/440414/165474561/p...</td>\n",
              "      <td>48.0</td>\n",
              "      <td>NaN</td>\n",
              "      <td>NaN</td>\n",
              "      <td>NaN</td>\n",
              "      <td>2.0</td>\n",
              "      <td>1.0</td>\n",
              "      <td>NaN</td>\n",
              "      <td>NaN</td>\n",
              "      <td>NaN</td>\n",
              "      <td>NaN</td>\n",
              "      <td>NaN</td>\n",
              "      <td>NaN</td>\n",
              "      <td>1.0</td>\n",
              "      <td>NaN</td>\n",
              "      <td>NaN</td>\n",
              "      <td>NaN</td>\n",
              "      <td>NaN</td>\n",
              "      <td>False</td>\n",
              "      <td>NaN</td>\n",
              "      <td>[]</td>\n",
              "      <td>INDIVIDUAL</td>\n",
              "      <td>1.0</td>\n",
              "      <td>6.0</td>\n",
              "      <td>NaN</td>\n",
              "      <td>True</td>\n",
              "      <td>False</td>\n",
              "      <td>NaN</td>\n",
              "      <td>NaN</td>\n",
              "      <td>SALE</td>\n",
              "      <td>429000.0</td>\n",
              "      <td>8937.50</td>\n",
              "      <td>[{\"price\":452000.0,\"date\":\"2018-09-18\"},{\"pric...</td>\n",
              "      <td>NaN</td>\n",
              "      <td>NaN</td>\n",
              "      <td>NaN</td>\n",
              "      <td>NaN</td>\n",
              "      <td>False</td>\n",
              "      <td>False</td>\n",
              "      <td>NaN</td>\n",
              "      <td>False</td>\n",
              "      <td>Proprietes Privees</td>\n",
              "      <td>MANDATARY</td>\n",
              "      <td>54178039</td>\n",
              "      <td>Levallois-Perret</td>\n",
              "      <td>92300.0</td>\n",
              "      <td>92</td>\n",
              "      <td>2018-09-18T11:04:44.461</td>\n",
              "      <td>NaN</td>\n",
              "      <td>2019-06-06T10:08:10.89</td>\n",
              "      <td>2018-09-25</td>\n",
              "    </tr>\n",
              "    <tr>\n",
              "      <th>2</th>\n",
              "      <td>44b6a5c0-3466-11e9-8213-25cc7d9bf5fc</td>\n",
              "      <td>https://www.bellesdemeures.com/annonces/vente/...</td>\n",
              "      <td>BELLES_DEMEURES</td>\n",
              "      <td>APARTMENT</td>\n",
              "      <td>False</td>\n",
              "      <td>Dans un cadre arboré, calme et fleuri, un pent...</td>\n",
              "      <td>[\"https://v.seloger.com/s/width/965/visuels/0/...</td>\n",
              "      <td>267.0</td>\n",
              "      <td>NaN</td>\n",
              "      <td>NaN</td>\n",
              "      <td>NaN</td>\n",
              "      <td>6.0</td>\n",
              "      <td>NaN</td>\n",
              "      <td>NaN</td>\n",
              "      <td>NaN</td>\n",
              "      <td>NaN</td>\n",
              "      <td>NaN</td>\n",
              "      <td>NaN</td>\n",
              "      <td>NaN</td>\n",
              "      <td>NaN</td>\n",
              "      <td>NaN</td>\n",
              "      <td>NaN</td>\n",
              "      <td>NaN</td>\n",
              "      <td>NaN</td>\n",
              "      <td>False</td>\n",
              "      <td>NaN</td>\n",
              "      <td>[]</td>\n",
              "      <td>NaN</td>\n",
              "      <td>NaN</td>\n",
              "      <td>NaN</td>\n",
              "      <td>NaN</td>\n",
              "      <td>NaN</td>\n",
              "      <td>NaN</td>\n",
              "      <td>NaN</td>\n",
              "      <td>NaN</td>\n",
              "      <td>SALE</td>\n",
              "      <td>4970000.0</td>\n",
              "      <td>18614.23</td>\n",
              "      <td>[{\"price\":4970000.0,\"date\":\"2019-02-19\"}]</td>\n",
              "      <td>NaN</td>\n",
              "      <td>NaN</td>\n",
              "      <td>NaN</td>\n",
              "      <td>NaN</td>\n",
              "      <td>NaN</td>\n",
              "      <td>False</td>\n",
              "      <td>NaN</td>\n",
              "      <td>False</td>\n",
              "      <td>Propriétés Parisiennes</td>\n",
              "      <td>AGENCY</td>\n",
              "      <td>54178039</td>\n",
              "      <td>Levallois-Perret</td>\n",
              "      <td>92300.0</td>\n",
              "      <td>92</td>\n",
              "      <td>2019-02-19T16:49:03.547</td>\n",
              "      <td>NaN</td>\n",
              "      <td>2019-06-13T08:22:14.314</td>\n",
              "      <td>NaN</td>\n",
              "    </tr>\n",
              "    <tr>\n",
              "      <th>3</th>\n",
              "      <td>e9e07ed0-812f-11e8-82aa-61eacebe4584</td>\n",
              "      <td>https://www.seloger.com/annonces/locations/bur...</td>\n",
              "      <td>SE_LOGER</td>\n",
              "      <td>PREMISES</td>\n",
              "      <td>False</td>\n",
              "      <td>\"Le meilleur coworking flexible de la ville, 5...</td>\n",
              "      <td>[\"https://pix.yanport.com/ads/e9e07ed0-812f-11...</td>\n",
              "      <td>50.0</td>\n",
              "      <td>NaN</td>\n",
              "      <td>NaN</td>\n",
              "      <td>NaN</td>\n",
              "      <td>0.0</td>\n",
              "      <td>NaN</td>\n",
              "      <td>NaN</td>\n",
              "      <td>NaN</td>\n",
              "      <td>NaN</td>\n",
              "      <td>NaN</td>\n",
              "      <td>NaN</td>\n",
              "      <td>NaN</td>\n",
              "      <td>NaN</td>\n",
              "      <td>NaN</td>\n",
              "      <td>NaN</td>\n",
              "      <td>NaN</td>\n",
              "      <td>NaN</td>\n",
              "      <td>False</td>\n",
              "      <td>NaN</td>\n",
              "      <td>[]</td>\n",
              "      <td>NaN</td>\n",
              "      <td>NaN</td>\n",
              "      <td>NaN</td>\n",
              "      <td>NaN</td>\n",
              "      <td>NaN</td>\n",
              "      <td>NaN</td>\n",
              "      <td>NaN</td>\n",
              "      <td>NaN</td>\n",
              "      <td>RENT</td>\n",
              "      <td>89.0</td>\n",
              "      <td>1.78</td>\n",
              "      <td>[{\"price\":89.0,\"date\":\"2018-07-06\"}]</td>\n",
              "      <td>NaN</td>\n",
              "      <td>NaN</td>\n",
              "      <td>NaN</td>\n",
              "      <td>NaN</td>\n",
              "      <td>NaN</td>\n",
              "      <td>False</td>\n",
              "      <td>NaN</td>\n",
              "      <td>NaN</td>\n",
              "      <td>Iwg</td>\n",
              "      <td>AGENCY</td>\n",
              "      <td>54178039</td>\n",
              "      <td>Levallois-Perret</td>\n",
              "      <td>92300.0</td>\n",
              "      <td>92</td>\n",
              "      <td>2018-07-06T15:18:59.805</td>\n",
              "      <td>NaN</td>\n",
              "      <td>2019-06-18T10:40:07.405</td>\n",
              "      <td>NaN</td>\n",
              "    </tr>\n",
              "    <tr>\n",
              "      <th>4</th>\n",
              "      <td>872302b0-5a21-11e9-950c-510fefc1ed35</td>\n",
              "      <td>https://www.bellesdemeures.com/annonces/vente/...</td>\n",
              "      <td>BELLES_DEMEURES</td>\n",
              "      <td>HOUSE</td>\n",
              "      <td>False</td>\n",
              "      <td>Levallois - Parc de la Planchette A toute prox...</td>\n",
              "      <td>[\"https://v.seloger.com/s/width/966/visuels/0/...</td>\n",
              "      <td>330.0</td>\n",
              "      <td>NaN</td>\n",
              "      <td>NaN</td>\n",
              "      <td>NaN</td>\n",
              "      <td>8.0</td>\n",
              "      <td>NaN</td>\n",
              "      <td>NaN</td>\n",
              "      <td>NaN</td>\n",
              "      <td>NaN</td>\n",
              "      <td>NaN</td>\n",
              "      <td>NaN</td>\n",
              "      <td>NaN</td>\n",
              "      <td>NaN</td>\n",
              "      <td>NaN</td>\n",
              "      <td>NaN</td>\n",
              "      <td>NaN</td>\n",
              "      <td>NaN</td>\n",
              "      <td>False</td>\n",
              "      <td>NaN</td>\n",
              "      <td>[]</td>\n",
              "      <td>NaN</td>\n",
              "      <td>NaN</td>\n",
              "      <td>NaN</td>\n",
              "      <td>NaN</td>\n",
              "      <td>NaN</td>\n",
              "      <td>NaN</td>\n",
              "      <td>NaN</td>\n",
              "      <td>NaN</td>\n",
              "      <td>SALE</td>\n",
              "      <td>2790000.0</td>\n",
              "      <td>8454.55</td>\n",
              "      <td>[{\"price\":3150000.0,\"date\":\"2019-04-08\"},{\"pri...</td>\n",
              "      <td>NaN</td>\n",
              "      <td>NaN</td>\n",
              "      <td>NaN</td>\n",
              "      <td>NaN</td>\n",
              "      <td>NaN</td>\n",
              "      <td>False</td>\n",
              "      <td>NaN</td>\n",
              "      <td>False</td>\n",
              "      <td>Daniel Feau Neuilly</td>\n",
              "      <td>AGENCY</td>\n",
              "      <td>54178039</td>\n",
              "      <td>Levallois-Perret</td>\n",
              "      <td>92300.0</td>\n",
              "      <td>92</td>\n",
              "      <td>2019-04-08T17:12:20.123</td>\n",
              "      <td>NaN</td>\n",
              "      <td>2019-06-14T15:02:18.155</td>\n",
              "      <td>2019-06-14</td>\n",
              "    </tr>\n",
              "  </tbody>\n",
              "</table>\n",
              "</div>"
            ],
            "text/plain": [
              "                                     ID  ... LAST_PRICE_DECREASE_DATE\n",
              "0  22c05930-0eb5-11e7-b53d-bbead8ba43fe  ...                      NaN\n",
              "1  8d092fa0-bb99-11e8-a7c9-852783b5a69d  ...               2018-09-25\n",
              "2  44b6a5c0-3466-11e9-8213-25cc7d9bf5fc  ...                      NaN\n",
              "3  e9e07ed0-812f-11e8-82aa-61eacebe4584  ...                      NaN\n",
              "4  872302b0-5a21-11e9-950c-510fefc1ed35  ...               2019-06-14\n",
              "\n",
              "[5 rows x 57 columns]"
            ]
          },
          "metadata": {
            "tags": []
          },
          "execution_count": 7
        }
      ]
    },
    {
      "cell_type": "code",
      "metadata": {
        "colab": {
          "base_uri": "https://localhost:8080/"
        },
        "id": "DdWgWANDqVJo",
        "outputId": "e3e9e78b-d60c-4be5-8a72-6f5340fa3bd5"
      },
      "source": [
        "num_rows = df.shape[0]\n",
        "num_columns = df.shape[1]\n",
        "#df.describe()\n",
        "print(\"Nombre de lignes: \", num_rows)\n",
        "print(\"Nombre de colonnes: \", num_columns)"
      ],
      "execution_count": 44,
      "outputs": [
        {
          "output_type": "stream",
          "text": [
            "Nombre de lignes:  2164\n",
            "Nombre de colonnes:  57\n"
          ],
          "name": "stdout"
        }
      ]
    },
    {
      "cell_type": "code",
      "metadata": {
        "colab": {
          "base_uri": "https://localhost:8080/",
          "height": 331
        },
        "id": "rXXnDAmjpYmg",
        "outputId": "cc11682f-9372-44fe-eb94-1fd8e083fa6d"
      },
      "source": [
        "property_vals = df['PROPERTY_TYPE'].value_counts()\n",
        "\n",
        "(property_vals/num_rows).plot(kind=\"bar\");\n",
        "plt.title(\"What kind of house?\");"
      ],
      "execution_count": 45,
      "outputs": [
        {
          "output_type": "display_data",
          "data": {
            "image/png": "[encoded data removed]",
            "text/plain": [
              "<Figure size 432x288 with 1 Axes>"
            ]
          },
          "metadata": {
            "tags": [],
            "needs_background": "light"
          }
        }
      ]
    },
    {
      "cell_type": "code",
      "metadata": {
        "colab": {
          "base_uri": "https://localhost:8080/",
          "height": 396
        },
        "id": "kFbiVHIhwmp4",
        "outputId": "cf8ead05-ba8f-4929-d24a-3c3c7097e2aa"
      },
      "source": [
        "crawl_source_vals = df['CRAWL_SOURCE'].value_counts()\n",
        "\n",
        "(crawl_source_vals/num_rows).plot(kind=\"bar\");\n",
        "plt.title(\"What kind of web site?\");"
      ],
      "execution_count": 46,
      "outputs": [
        {
          "output_type": "display_data",
          "data": {
            "image/png": "[encoded data removed]",
            "text/plain": [
              "<Figure size 432x288 with 1 Axes>"
            ]
          },
          "metadata": {
            "tags": [],
            "needs_background": "light"
          }
        }
      ]
    },
    {
      "cell_type": "code",
      "metadata": {
        "colab": {
          "base_uri": "https://localhost:8080/",
          "height": 298
        },
        "id": "ZEo0OP_LFggs",
        "outputId": "b60a82f4-4eec-4ce1-9500-21d1d49535e8"
      },
      "source": [
        "marketing_type_vals = df['MARKETING_TYPE'].value_counts()\n",
        "\n",
        "(marketing_type_vals/num_rows).plot(kind=\"bar\");\n",
        "plt.title(\"What kind of marketing types?\");"
      ],
      "execution_count": 47,
      "outputs": [
        {
          "output_type": "display_data",
          "data": {
            "image/png": "[encoded data removed]",
            "text/plain": [
              "<Figure size 432x288 with 1 Axes>"
            ]
          },
          "metadata": {
            "tags": [],
            "needs_background": "light"
          }
        }
      ]
    },
    {
      "cell_type": "code",
      "metadata": {
        "colab": {
          "base_uri": "https://localhost:8080/",
          "height": 775
        },
        "id": "7DXjoHP5w14g",
        "outputId": "bd6e3329-ef2a-492d-dfe7-bf74c314208f"
      },
      "source": [
        "#Nombre de valeur null dans chaque colonne\n",
        "np.sum(df.isnull()).plot(kind=\"bar\", figsize=(25, 10), title=\"Nombre de valeur vide par colonne\")"
      ],
      "execution_count": 48,
      "outputs": [
        {
          "output_type": "execute_result",
          "data": {
            "text/plain": [
              "<matplotlib.axes._subplots.AxesSubplot at 0x7f02f5816790>"
            ]
          },
          "metadata": {
            "tags": []
          },
          "execution_count": 48
        },
        {
          "output_type": "display_data",
          "data": {
            "image/png": "[encoded data removed]",
            "text/plain": [
              "<Figure size 1800x720 with 1 Axes>"
            ]
          },
          "metadata": {
            "tags": [],
            "needs_background": "light"
          }
        }
      ]
    },
    {
      "cell_type": "code",
      "metadata": {
        "colab": {
          "base_uri": "https://localhost:8080/"
        },
        "id": "ByqbiYxlr9YF",
        "outputId": "e55718ce-61ae-4f12-ca99-7fdbf5faf7f5"
      },
      "source": [
        "#Columns that have more then 60% of missing values\n",
        "more_then_60 = []\n",
        "for col in df.columns:\n",
        "  if np.sum(df[col].isnull()) / num_rows >= 0.60:\n",
        "    more_then_60.append(col)\n",
        "print(more_then_60)"
      ],
      "execution_count": 49,
      "outputs": [
        {
          "output_type": "stream",
          "text": [
            "['LAND_SURFACE', 'BALCONY_SURFACE', 'TERRACE_SURFACE', 'BEDROOM_COUNT', 'BATHROOM_COUNT', 'LUNCHROOM_COUNT', 'TOILET_COUNT', 'FURNISHED', 'FIREPLACE', 'AIR_CONDITIONING', 'GARDEN', 'SWIMMING_POOL', 'BALCONY', 'TERRACE', 'CELLAR', 'PARKING_COUNT', 'HEATING_MODE', 'FLOOR', 'FLOOR_COUNT', 'CONSTRUCTION_YEAR', 'ELEVATOR', 'CARETAKER', 'ENERGY_CONSUMPTION', 'GREENHOUSE_GAS_CONSUMPTION', 'RENTAL_EXPENSES', 'RENTAL_EXPENSES_INCLUDED', 'DEPOSIT', 'FEES', 'FEES_INCLUDED', 'AGENCIES_UNWANTED', 'PUBLICATION_END_DATE', 'LAST_PRICE_DECREASE_DATE']\n"
          ],
          "name": "stdout"
        }
      ]
    },
    {
      "cell_type": "code",
      "metadata": {
        "colab": {
          "base_uri": "https://localhost:8080/",
          "height": 171
        },
        "id": "zBjAqEXmtAkX",
        "outputId": "b6424b98-703b-42d5-be90-0be71b4c8a49"
      },
      "source": [
        "#Delete columns that have more then 60% of missing values\n",
        "df_clean = df.drop(more_then_60, axis=1)\n",
        "print(df_clean.shape)\n",
        "df_clean.head(1)"
      ],
      "execution_count": 50,
      "outputs": [
        {
          "output_type": "stream",
          "text": [
            "(2164, 25)\n"
          ],
          "name": "stdout"
        },
        {
          "output_type": "execute_result",
          "data": {
            "text/html": [
              "<div>\n",
              "<style scoped>\n",
              "    .dataframe tbody tr th:only-of-type {\n",
              "        vertical-align: middle;\n",
              "    }\n",
              "\n",
              "    .dataframe tbody tr th {\n",
              "        vertical-align: top;\n",
              "    }\n",
              "\n",
              "    .dataframe thead th {\n",
              "        text-align: right;\n",
              "    }\n",
              "</style>\n",
              "<table border=\"1\" class=\"dataframe\">\n",
              "  <thead>\n",
              "    <tr style=\"text-align: right;\">\n",
              "      <th></th>\n",
              "      <th>ID</th>\n",
              "      <th>URL</th>\n",
              "      <th>CRAWL_SOURCE</th>\n",
              "      <th>PROPERTY_TYPE</th>\n",
              "      <th>NEW_BUILD</th>\n",
              "      <th>DESCRIPTION</th>\n",
              "      <th>IMAGES</th>\n",
              "      <th>SURFACE</th>\n",
              "      <th>ROOM_COUNT</th>\n",
              "      <th>PARKING</th>\n",
              "      <th>HEATING_TYPES</th>\n",
              "      <th>MARKETING_TYPE</th>\n",
              "      <th>PRICE</th>\n",
              "      <th>PRICE_M2</th>\n",
              "      <th>PRICE_EVENTS</th>\n",
              "      <th>EXCLUSIVE_MANDATE</th>\n",
              "      <th>OCCUPIED</th>\n",
              "      <th>DEALER_NAME</th>\n",
              "      <th>DEALER_TYPE</th>\n",
              "      <th>CITY_ID</th>\n",
              "      <th>CITY</th>\n",
              "      <th>ZIP_CODE</th>\n",
              "      <th>DEPT_CODE</th>\n",
              "      <th>PUBLICATION_START_DATE</th>\n",
              "      <th>LAST_CRAWL_DATE</th>\n",
              "    </tr>\n",
              "  </thead>\n",
              "  <tbody>\n",
              "    <tr>\n",
              "      <th>0</th>\n",
              "      <td>22c05930-0eb5-11e7-b53d-bbead8ba43fe</td>\n",
              "      <td>http://www.avendrealouer.fr/location/levallois...</td>\n",
              "      <td>A_VENDRE_A_LOUER</td>\n",
              "      <td>APARTMENT</td>\n",
              "      <td>False</td>\n",
              "      <td>Au rez de chaussée d'un bel immeuble récent,ap...</td>\n",
              "      <td>[\"https://cf-medias.avendrealouer.fr/image/_87...</td>\n",
              "      <td>72.0</td>\n",
              "      <td>3.0</td>\n",
              "      <td>True</td>\n",
              "      <td>[]</td>\n",
              "      <td>RENT</td>\n",
              "      <td>1979.0</td>\n",
              "      <td>27.49</td>\n",
              "      <td>[{\"price\":1979,\"date\":\"2017-03-22\"}]</td>\n",
              "      <td>False</td>\n",
              "      <td>NaN</td>\n",
              "      <td>Lamirand Et Associes</td>\n",
              "      <td>AGENCY</td>\n",
              "      <td>54178039</td>\n",
              "      <td>Levallois-Perret</td>\n",
              "      <td>92300.0</td>\n",
              "      <td>92</td>\n",
              "      <td>2017-03-22T04:07:56.095</td>\n",
              "      <td>2017-04-21T18:52:35.733</td>\n",
              "    </tr>\n",
              "  </tbody>\n",
              "</table>\n",
              "</div>"
            ],
            "text/plain": [
              "                                     ID  ...          LAST_CRAWL_DATE\n",
              "0  22c05930-0eb5-11e7-b53d-bbead8ba43fe  ...  2017-04-21T18:52:35.733\n",
              "\n",
              "[1 rows x 25 columns]"
            ]
          },
          "metadata": {
            "tags": []
          },
          "execution_count": 50
        }
      ]
    },
    {
      "cell_type": "code",
      "metadata": {
        "colab": {
          "base_uri": "https://localhost:8080/"
        },
        "id": "mZNNglKG-c22",
        "outputId": "1c3a2f43-2632-4e75-98c1-ce72b978f548"
      },
      "source": [
        "#We dont need those columns \n",
        "city_id_valus = df_clean['CITY_ID'].value_counts()\n",
        "city_valus = df_clean['CITY'].value_counts()\n",
        "dept_code = df_clean['DEPT_CODE'].value_counts()\n",
        "print(city_id_valus)\n",
        "print(city_valus)\n",
        "print(dept_code)\n",
        "\n"
      ],
      "execution_count": 51,
      "outputs": [
        {
          "output_type": "stream",
          "text": [
            "54178039    2164\n",
            "Name: CITY_ID, dtype: int64\n",
            "Levallois-Perret    2164\n",
            "Name: CITY, dtype: int64\n",
            "92    2164\n",
            "Name: DEPT_CODE, dtype: int64\n"
          ],
          "name": "stdout"
        }
      ]
    },
    {
      "cell_type": "markdown",
      "metadata": {
        "id": "Mp5ZR3nnlHTP"
      },
      "source": [
        "Aprés avoir supprimer les valeurs null la colonne **marketing_type** a seulement un seul type.\n",
        "On peut la supprimé"
      ]
    },
    {
      "cell_type": "code",
      "metadata": {
        "colab": {
          "base_uri": "https://localhost:8080/"
        },
        "id": "xyNWKQyDC__P",
        "outputId": "02b7ef69-3bec-47c6-d905-0a41a3d34953"
      },
      "source": [
        "df_clean.dropna(axis=0, inplace=True)\n",
        "df_clean['MARKETING_TYPE'].value_counts()"
      ],
      "execution_count": 52,
      "outputs": [
        {
          "output_type": "execute_result",
          "data": {
            "text/plain": [
              "SALE    1045\n",
              "Name: MARKETING_TYPE, dtype: int64"
            ]
          },
          "metadata": {
            "tags": []
          },
          "execution_count": 52
        }
      ]
    },
    {
      "cell_type": "markdown",
      "metadata": {
        "id": "j9OZ_HuvonCT"
      },
      "source": [
        "**Deux anonnces sont similaires si elles ont** :\n",
        " * Deux descriptions similaires\n",
        " * Property_Type, Surfacce, Room_count et Price similaires\n",
        "\n",
        "**Creation de deux datasets**\n",
        "* df_clean_description\n",
        "* df_clean_num\n"
      ]
    },
    {
      "cell_type": "code",
      "metadata": {
        "colab": {
          "base_uri": "https://localhost:8080/"
        },
        "id": "ZXrVm2gFm4_O",
        "outputId": "65f53312-4520-4235-9c22-4e59a9c857c2"
      },
      "source": [
        "needed_columns = ['PROPERTY_TYPE', 'SURFACE','PRICE', 'ROOM_COUNT']\n",
        "not_needed_columns = [col for col in df_clean.columns if col not in needed_columns]\n",
        "\n",
        "df_clean_description_serie = df_clean['DESCRIPTION']\n",
        "desc = {'DESCRIPTION': df_clean_description_serie}\n",
        "\n",
        "df_clean_description = pd.DataFrame(desc)\n",
        "df_clean_num = df_clean.drop(not_needed_columns, axis=1)\n",
        "\n",
        "print(np.sum(df_clean_num.isnull()))\n",
        "print(np.sum(df_clean_description.isnull()))\n",
        "print(df_clean_num.shape)\n",
        "print(df_clean_description.shape)"
      ],
      "execution_count": 53,
      "outputs": [
        {
          "output_type": "stream",
          "text": [
            "PROPERTY_TYPE    0\n",
            "SURFACE          0\n",
            "ROOM_COUNT       0\n",
            "PRICE            0\n",
            "dtype: int64\n",
            "DESCRIPTION    0\n",
            "dtype: int64\n",
            "(1045, 4)\n",
            "(1045, 1)\n"
          ],
          "name": "stdout"
        }
      ]
    },
    {
      "cell_type": "code",
      "metadata": {
        "colab": {
          "base_uri": "https://localhost:8080/",
          "height": 206
        },
        "id": "kOkQNYgkSSW6",
        "outputId": "5df47649-4f50-43dc-f44b-24e024b0ca9a"
      },
      "source": [
        "df_clean_description.head()"
      ],
      "execution_count": 54,
      "outputs": [
        {
          "output_type": "execute_result",
          "data": {
            "text/html": [
              "<div>\n",
              "<style scoped>\n",
              "    .dataframe tbody tr th:only-of-type {\n",
              "        vertical-align: middle;\n",
              "    }\n",
              "\n",
              "    .dataframe tbody tr th {\n",
              "        vertical-align: top;\n",
              "    }\n",
              "\n",
              "    .dataframe thead th {\n",
              "        text-align: right;\n",
              "    }\n",
              "</style>\n",
              "<table border=\"1\" class=\"dataframe\">\n",
              "  <thead>\n",
              "    <tr style=\"text-align: right;\">\n",
              "      <th></th>\n",
              "      <th>DESCRIPTION</th>\n",
              "    </tr>\n",
              "  </thead>\n",
              "  <tbody>\n",
              "    <tr>\n",
              "      <th>1</th>\n",
              "      <td>Je vous propose un appartement dans la rue Col...</td>\n",
              "    </tr>\n",
              "    <tr>\n",
              "      <th>2</th>\n",
              "      <td>Dans un cadre arboré, calme et fleuri, un pent...</td>\n",
              "    </tr>\n",
              "    <tr>\n",
              "      <th>4</th>\n",
              "      <td>Levallois - Parc de la Planchette A toute prox...</td>\n",
              "    </tr>\n",
              "    <tr>\n",
              "      <th>5</th>\n",
              "      <td>LEVALLOIS - FRONT DE SEINE - 5-6 PIECES Appart...</td>\n",
              "    </tr>\n",
              "    <tr>\n",
              "      <th>9</th>\n",
              "      <td>A VENDRE APPARTEMENT DE 2 PIÈCES MAIRIE DE LEV...</td>\n",
              "    </tr>\n",
              "  </tbody>\n",
              "</table>\n",
              "</div>"
            ],
            "text/plain": [
              "                                         DESCRIPTION\n",
              "1  Je vous propose un appartement dans la rue Col...\n",
              "2  Dans un cadre arboré, calme et fleuri, un pent...\n",
              "4  Levallois - Parc de la Planchette A toute prox...\n",
              "5  LEVALLOIS - FRONT DE SEINE - 5-6 PIECES Appart...\n",
              "9  A VENDRE APPARTEMENT DE 2 PIÈCES MAIRIE DE LEV..."
            ]
          },
          "metadata": {
            "tags": []
          },
          "execution_count": 54
        }
      ]
    },
    {
      "cell_type": "code",
      "metadata": {
        "colab": {
          "base_uri": "https://localhost:8080/",
          "height": 363
        },
        "id": "XVZqB6Nnlaau",
        "outputId": "3d36a2d4-9225-4baf-830a-b2c5446e497f"
      },
      "source": [
        "df_clean_num.head(10)"
      ],
      "execution_count": 55,
      "outputs": [
        {
          "output_type": "execute_result",
          "data": {
            "text/html": [
              "<div>\n",
              "<style scoped>\n",
              "    .dataframe tbody tr th:only-of-type {\n",
              "        vertical-align: middle;\n",
              "    }\n",
              "\n",
              "    .dataframe tbody tr th {\n",
              "        vertical-align: top;\n",
              "    }\n",
              "\n",
              "    .dataframe thead th {\n",
              "        text-align: right;\n",
              "    }\n",
              "</style>\n",
              "<table border=\"1\" class=\"dataframe\">\n",
              "  <thead>\n",
              "    <tr style=\"text-align: right;\">\n",
              "      <th></th>\n",
              "      <th>PROPERTY_TYPE</th>\n",
              "      <th>SURFACE</th>\n",
              "      <th>ROOM_COUNT</th>\n",
              "      <th>PRICE</th>\n",
              "    </tr>\n",
              "  </thead>\n",
              "  <tbody>\n",
              "    <tr>\n",
              "      <th>1</th>\n",
              "      <td>APARTMENT</td>\n",
              "      <td>48.00</td>\n",
              "      <td>2.0</td>\n",
              "      <td>429000.0</td>\n",
              "    </tr>\n",
              "    <tr>\n",
              "      <th>2</th>\n",
              "      <td>APARTMENT</td>\n",
              "      <td>267.00</td>\n",
              "      <td>6.0</td>\n",
              "      <td>4970000.0</td>\n",
              "    </tr>\n",
              "    <tr>\n",
              "      <th>4</th>\n",
              "      <td>HOUSE</td>\n",
              "      <td>330.00</td>\n",
              "      <td>8.0</td>\n",
              "      <td>2790000.0</td>\n",
              "    </tr>\n",
              "    <tr>\n",
              "      <th>5</th>\n",
              "      <td>APARTMENT</td>\n",
              "      <td>142.76</td>\n",
              "      <td>5.0</td>\n",
              "      <td>1420000.0</td>\n",
              "    </tr>\n",
              "    <tr>\n",
              "      <th>9</th>\n",
              "      <td>APARTMENT</td>\n",
              "      <td>57.00</td>\n",
              "      <td>2.0</td>\n",
              "      <td>570000.0</td>\n",
              "    </tr>\n",
              "    <tr>\n",
              "      <th>12</th>\n",
              "      <td>APARTMENT</td>\n",
              "      <td>69.00</td>\n",
              "      <td>3.0</td>\n",
              "      <td>669000.0</td>\n",
              "    </tr>\n",
              "    <tr>\n",
              "      <th>13</th>\n",
              "      <td>APARTMENT</td>\n",
              "      <td>66.27</td>\n",
              "      <td>4.0</td>\n",
              "      <td>560000.0</td>\n",
              "    </tr>\n",
              "    <tr>\n",
              "      <th>14</th>\n",
              "      <td>APARTMENT</td>\n",
              "      <td>30.00</td>\n",
              "      <td>1.0</td>\n",
              "      <td>325001.0</td>\n",
              "    </tr>\n",
              "    <tr>\n",
              "      <th>24</th>\n",
              "      <td>APARTMENT</td>\n",
              "      <td>39.00</td>\n",
              "      <td>2.0</td>\n",
              "      <td>345000.0</td>\n",
              "    </tr>\n",
              "    <tr>\n",
              "      <th>25</th>\n",
              "      <td>APARTMENT</td>\n",
              "      <td>48.00</td>\n",
              "      <td>2.0</td>\n",
              "      <td>449000.0</td>\n",
              "    </tr>\n",
              "  </tbody>\n",
              "</table>\n",
              "</div>"
            ],
            "text/plain": [
              "   PROPERTY_TYPE  SURFACE  ROOM_COUNT      PRICE\n",
              "1      APARTMENT    48.00         2.0   429000.0\n",
              "2      APARTMENT   267.00         6.0  4970000.0\n",
              "4          HOUSE   330.00         8.0  2790000.0\n",
              "5      APARTMENT   142.76         5.0  1420000.0\n",
              "9      APARTMENT    57.00         2.0   570000.0\n",
              "12     APARTMENT    69.00         3.0   669000.0\n",
              "13     APARTMENT    66.27         4.0   560000.0\n",
              "14     APARTMENT    30.00         1.0   325001.0\n",
              "24     APARTMENT    39.00         2.0   345000.0\n",
              "25     APARTMENT    48.00         2.0   449000.0"
            ]
          },
          "metadata": {
            "tags": []
          },
          "execution_count": 55
        }
      ]
    },
    {
      "cell_type": "markdown",
      "metadata": {
        "id": "b-lbOTuQpBDb"
      },
      "source": [
        "#Feature engineering\n"
      ]
    },
    {
      "cell_type": "code",
      "metadata": {
        "id": "z0cs-UU3pGuT"
      },
      "source": [
        "def tokenize(text):\n",
        "  \"\"\"\n",
        "  INPUT: String Description of house\n",
        "  OUTPUT: A list of tokens without special characters\n",
        "  \"\"\"\n",
        "  token_pattern = re.compile(r\"(?:[a-zA-ZÀ-ÖØ-ö0-9])+'?\")\n",
        "  tokens = re.findall(token_pattern, text)\n",
        "  tokens = [t for t in tokens]\n",
        "  return tokens"
      ],
      "execution_count": 56,
      "outputs": []
    },
    {
      "cell_type": "code",
      "metadata": {
        "id": "WXdP4FQ8phdr"
      },
      "source": [
        "df_clean_description['tokens'] = df_clean_description['DESCRIPTION'].apply(tokenize)"
      ],
      "execution_count": 57,
      "outputs": []
    },
    {
      "cell_type": "code",
      "metadata": {
        "colab": {
          "base_uri": "https://localhost:8080/",
          "height": 206
        },
        "id": "BHmhVe09pkPb",
        "outputId": "e8db62c1-a778-43c4-9945-6a01a7ca7195"
      },
      "source": [
        "df_clean_description.head()"
      ],
      "execution_count": 58,
      "outputs": [
        {
          "output_type": "execute_result",
          "data": {
            "text/html": [
              "<div>\n",
              "<style scoped>\n",
              "    .dataframe tbody tr th:only-of-type {\n",
              "        vertical-align: middle;\n",
              "    }\n",
              "\n",
              "    .dataframe tbody tr th {\n",
              "        vertical-align: top;\n",
              "    }\n",
              "\n",
              "    .dataframe thead th {\n",
              "        text-align: right;\n",
              "    }\n",
              "</style>\n",
              "<table border=\"1\" class=\"dataframe\">\n",
              "  <thead>\n",
              "    <tr style=\"text-align: right;\">\n",
              "      <th></th>\n",
              "      <th>DESCRIPTION</th>\n",
              "      <th>tokens</th>\n",
              "    </tr>\n",
              "  </thead>\n",
              "  <tbody>\n",
              "    <tr>\n",
              "      <th>1</th>\n",
              "      <td>Je vous propose un appartement dans la rue Col...</td>\n",
              "      <td>[Je, vous, propose, un, appartement, dans, la,...</td>\n",
              "    </tr>\n",
              "    <tr>\n",
              "      <th>2</th>\n",
              "      <td>Dans un cadre arboré, calme et fleuri, un pent...</td>\n",
              "      <td>[Dans, un, cadre, arboré, calme, et, fleuri, u...</td>\n",
              "    </tr>\n",
              "    <tr>\n",
              "      <th>4</th>\n",
              "      <td>Levallois - Parc de la Planchette A toute prox...</td>\n",
              "      <td>[Levallois, Parc, de, la, Planchette, A, toute...</td>\n",
              "    </tr>\n",
              "    <tr>\n",
              "      <th>5</th>\n",
              "      <td>LEVALLOIS - FRONT DE SEINE - 5-6 PIECES Appart...</td>\n",
              "      <td>[LEVALLOIS, FRONT, DE, SEINE, 5, 6, PIECES, Ap...</td>\n",
              "    </tr>\n",
              "    <tr>\n",
              "      <th>9</th>\n",
              "      <td>A VENDRE APPARTEMENT DE 2 PIÈCES MAIRIE DE LEV...</td>\n",
              "      <td>[A, VENDRE, APPARTEMENT, DE, 2, PIÈCES, MAIRIE...</td>\n",
              "    </tr>\n",
              "  </tbody>\n",
              "</table>\n",
              "</div>"
            ],
            "text/plain": [
              "                                         DESCRIPTION                                             tokens\n",
              "1  Je vous propose un appartement dans la rue Col...  [Je, vous, propose, un, appartement, dans, la,...\n",
              "2  Dans un cadre arboré, calme et fleuri, un pent...  [Dans, un, cadre, arboré, calme, et, fleuri, u...\n",
              "4  Levallois - Parc de la Planchette A toute prox...  [Levallois, Parc, de, la, Planchette, A, toute...\n",
              "5  LEVALLOIS - FRONT DE SEINE - 5-6 PIECES Appart...  [LEVALLOIS, FRONT, DE, SEINE, 5, 6, PIECES, Ap...\n",
              "9  A VENDRE APPARTEMENT DE 2 PIÈCES MAIRIE DE LEV...  [A, VENDRE, APPARTEMENT, DE, 2, PIÈCES, MAIRIE..."
            ]
          },
          "metadata": {
            "tags": []
          },
          "execution_count": 58
        }
      ]
    },
    {
      "cell_type": "code",
      "metadata": {
        "id": "SStL7gxdpouE"
      },
      "source": [
        "def remove_accents(token):\n",
        "  \"\"\"\n",
        "  INPUT:  A token\n",
        "  OUTPUT: The same token without accents\n",
        "  \"\"\"\n",
        "  return unidecode.unidecode(token)"
      ],
      "execution_count": 59,
      "outputs": []
    },
    {
      "cell_type": "code",
      "metadata": {
        "id": "GnbLf53uprHf"
      },
      "source": [
        "#Application de la fonction remove_accents\n",
        "df_clean_description['tokens'] = df_clean_description['tokens'].apply(lambda x : [remove_accents(t) for t in x] )"
      ],
      "execution_count": 60,
      "outputs": []
    },
    {
      "cell_type": "code",
      "metadata": {
        "id": "tTSZlNELptsr"
      },
      "source": [
        "# Stemming : on enlève les \"terminaisons\" des mots\n",
        "\n",
        "def stemmatisation(token): \n",
        "  \"\"\"\n",
        "  INPUT:  A token \n",
        "  OUTPUT: The stem of the token\n",
        "  \"\"\"\n",
        "  stemmer = FrenchStemmer()\n",
        "  return stemmer.stem(token)"
      ],
      "execution_count": 61,
      "outputs": []
    },
    {
      "cell_type": "code",
      "metadata": {
        "id": "InM0JuULpvZW"
      },
      "source": [
        "#Application de la fonction stemmatisation\n",
        "df_clean_description['tokens'] = df_clean_description['tokens'].apply(lambda x: [stemmatisation(t) for t in x])"
      ],
      "execution_count": 62,
      "outputs": []
    },
    {
      "cell_type": "code",
      "metadata": {
        "colab": {
          "base_uri": "https://localhost:8080/",
          "height": 206
        },
        "id": "t1Sei5XTpxxW",
        "outputId": "63edaf15-588e-48ba-a5b4-278db766bf91"
      },
      "source": [
        "df_clean_description.head()"
      ],
      "execution_count": 63,
      "outputs": [
        {
          "output_type": "execute_result",
          "data": {
            "text/html": [
              "<div>\n",
              "<style scoped>\n",
              "    .dataframe tbody tr th:only-of-type {\n",
              "        vertical-align: middle;\n",
              "    }\n",
              "\n",
              "    .dataframe tbody tr th {\n",
              "        vertical-align: top;\n",
              "    }\n",
              "\n",
              "    .dataframe thead th {\n",
              "        text-align: right;\n",
              "    }\n",
              "</style>\n",
              "<table border=\"1\" class=\"dataframe\">\n",
              "  <thead>\n",
              "    <tr style=\"text-align: right;\">\n",
              "      <th></th>\n",
              "      <th>DESCRIPTION</th>\n",
              "      <th>tokens</th>\n",
              "    </tr>\n",
              "  </thead>\n",
              "  <tbody>\n",
              "    <tr>\n",
              "      <th>1</th>\n",
              "      <td>Je vous propose un appartement dans la rue Col...</td>\n",
              "      <td>[je, vous, propos, un, appart, dan, la, ru, co...</td>\n",
              "    </tr>\n",
              "    <tr>\n",
              "      <th>2</th>\n",
              "      <td>Dans un cadre arboré, calme et fleuri, un pent...</td>\n",
              "      <td>[dan, un, cadr, arbor, calm, et, fleur, un, pe...</td>\n",
              "    </tr>\n",
              "    <tr>\n",
              "      <th>4</th>\n",
              "      <td>Levallois - Parc de la Planchette A toute prox...</td>\n",
              "      <td>[levallois, parc, de, la, planchet, a, tout, p...</td>\n",
              "    </tr>\n",
              "    <tr>\n",
              "      <th>5</th>\n",
              "      <td>LEVALLOIS - FRONT DE SEINE - 5-6 PIECES Appart...</td>\n",
              "      <td>[levallois, front, de, sein, 5, 6, piec, appar...</td>\n",
              "    </tr>\n",
              "    <tr>\n",
              "      <th>9</th>\n",
              "      <td>A VENDRE APPARTEMENT DE 2 PIÈCES MAIRIE DE LEV...</td>\n",
              "      <td>[a, vendr, appart, de, 2, piec, mair, de, leva...</td>\n",
              "    </tr>\n",
              "  </tbody>\n",
              "</table>\n",
              "</div>"
            ],
            "text/plain": [
              "                                         DESCRIPTION                                             tokens\n",
              "1  Je vous propose un appartement dans la rue Col...  [je, vous, propos, un, appart, dan, la, ru, co...\n",
              "2  Dans un cadre arboré, calme et fleuri, un pent...  [dan, un, cadr, arbor, calm, et, fleur, un, pe...\n",
              "4  Levallois - Parc de la Planchette A toute prox...  [levallois, parc, de, la, planchet, a, tout, p...\n",
              "5  LEVALLOIS - FRONT DE SEINE - 5-6 PIECES Appart...  [levallois, front, de, sein, 5, 6, piec, appar...\n",
              "9  A VENDRE APPARTEMENT DE 2 PIÈCES MAIRIE DE LEV...  [a, vendr, appart, de, 2, piec, mair, de, leva..."
            ]
          },
          "metadata": {
            "tags": []
          },
          "execution_count": 63
        }
      ]
    },
    {
      "cell_type": "code",
      "metadata": {
        "id": "8A9SnefXqDN7"
      },
      "source": [
        "def del_stop_words(tokens):\n",
        "  \"\"\"\n",
        "  INPUT:  A list of tokens [je, vous, propos, un, appart] \n",
        "  OUTPUT: The same list without STOP_WORDS \n",
        "  \"\"\"\n",
        "  for t in tokens:\n",
        "    if t in STOP_WORDS:\n",
        "      tokens.remove(t)\n",
        "  return tokens"
      ],
      "execution_count": 64,
      "outputs": []
    },
    {
      "cell_type": "code",
      "metadata": {
        "id": "KwgeKIOTqEnn"
      },
      "source": [
        "#Application de la fonction del_stop_words\n",
        "df_clean_description['tokens'] = df_clean_description['tokens'].apply(lambda x: del_stop_words(x) )\n"
      ],
      "execution_count": 65,
      "outputs": []
    },
    {
      "cell_type": "code",
      "metadata": {
        "colab": {
          "base_uri": "https://localhost:8080/",
          "height": 363
        },
        "id": "BRlRZrnWqGZu",
        "outputId": "7fd12589-5a7d-4d6c-c444-07690799b52c"
      },
      "source": [
        "df_clean_description.head(10)"
      ],
      "execution_count": 66,
      "outputs": [
        {
          "output_type": "execute_result",
          "data": {
            "text/html": [
              "<div>\n",
              "<style scoped>\n",
              "    .dataframe tbody tr th:only-of-type {\n",
              "        vertical-align: middle;\n",
              "    }\n",
              "\n",
              "    .dataframe tbody tr th {\n",
              "        vertical-align: top;\n",
              "    }\n",
              "\n",
              "    .dataframe thead th {\n",
              "        text-align: right;\n",
              "    }\n",
              "</style>\n",
              "<table border=\"1\" class=\"dataframe\">\n",
              "  <thead>\n",
              "    <tr style=\"text-align: right;\">\n",
              "      <th></th>\n",
              "      <th>DESCRIPTION</th>\n",
              "      <th>tokens</th>\n",
              "    </tr>\n",
              "  </thead>\n",
              "  <tbody>\n",
              "    <tr>\n",
              "      <th>1</th>\n",
              "      <td>Je vous propose un appartement dans la rue Col...</td>\n",
              "      <td>[vous, propos, appart, dan, ru, collang, dan, ...</td>\n",
              "    </tr>\n",
              "    <tr>\n",
              "      <th>2</th>\n",
              "      <td>Dans un cadre arboré, calme et fleuri, un pent...</td>\n",
              "      <td>[dan, cadr, arbor, calm, fleur, penthous, 267,...</td>\n",
              "    </tr>\n",
              "    <tr>\n",
              "      <th>4</th>\n",
              "      <td>Levallois - Parc de la Planchette A toute prox...</td>\n",
              "      <td>[levallois, parc, planchet, tout, proximit, pa...</td>\n",
              "    </tr>\n",
              "    <tr>\n",
              "      <th>5</th>\n",
              "      <td>LEVALLOIS - FRONT DE SEINE - 5-6 PIECES Appart...</td>\n",
              "      <td>[levallois, front, sein, 5, 6, piec, appart, f...</td>\n",
              "    </tr>\n",
              "    <tr>\n",
              "      <th>9</th>\n",
              "      <td>A VENDRE APPARTEMENT DE 2 PIÈCES MAIRIE DE LEV...</td>\n",
              "      <td>[vendr, appart, 2, piec, mair, levallois, vend...</td>\n",
              "    </tr>\n",
              "    <tr>\n",
              "      <th>12</th>\n",
              "      <td>LEVALLOIS -3 pièces 69m2\\n\\nPlace Georges Pomp...</td>\n",
              "      <td>[levallois, 3, piec, 69m2, plac, georg, pompid...</td>\n",
              "    </tr>\n",
              "    <tr>\n",
              "      <th>13</th>\n",
              "      <td>LEVALLOIS - MAIRIE - 4 PIECES Appartement 4 pi...</td>\n",
              "      <td>[levallois, mair, 4, piec, appart, 4, piec, 2,...</td>\n",
              "    </tr>\n",
              "    <tr>\n",
              "      <th>14</th>\n",
              "      <td>LEVALLOIS - STUDIO VENDU LOUE - 325 000 EUROS ...</td>\n",
              "      <td>[levallois, studio, vendu, lou, 325, 000, euro...</td>\n",
              "    </tr>\n",
              "    <tr>\n",
              "      <th>24</th>\n",
              "      <td>Appartements neufs grand standing du 2 au 3 pi...</td>\n",
              "      <td>[appart, grand, standing, 2, 3, piec, part, 34...</td>\n",
              "    </tr>\n",
              "    <tr>\n",
              "      <th>25</th>\n",
              "      <td>Dans une copropriété de grand standing de 2012...</td>\n",
              "      <td>[dan, copropriet, grand, standing, 2012, bel, ...</td>\n",
              "    </tr>\n",
              "  </tbody>\n",
              "</table>\n",
              "</div>"
            ],
            "text/plain": [
              "                                          DESCRIPTION                                             tokens\n",
              "1   Je vous propose un appartement dans la rue Col...  [vous, propos, appart, dan, ru, collang, dan, ...\n",
              "2   Dans un cadre arboré, calme et fleuri, un pent...  [dan, cadr, arbor, calm, fleur, penthous, 267,...\n",
              "4   Levallois - Parc de la Planchette A toute prox...  [levallois, parc, planchet, tout, proximit, pa...\n",
              "5   LEVALLOIS - FRONT DE SEINE - 5-6 PIECES Appart...  [levallois, front, sein, 5, 6, piec, appart, f...\n",
              "9   A VENDRE APPARTEMENT DE 2 PIÈCES MAIRIE DE LEV...  [vendr, appart, 2, piec, mair, levallois, vend...\n",
              "12  LEVALLOIS -3 pièces 69m2\\n\\nPlace Georges Pomp...  [levallois, 3, piec, 69m2, plac, georg, pompid...\n",
              "13  LEVALLOIS - MAIRIE - 4 PIECES Appartement 4 pi...  [levallois, mair, 4, piec, appart, 4, piec, 2,...\n",
              "14  LEVALLOIS - STUDIO VENDU LOUE - 325 000 EUROS ...  [levallois, studio, vendu, lou, 325, 000, euro...\n",
              "24  Appartements neufs grand standing du 2 au 3 pi...  [appart, grand, standing, 2, 3, piec, part, 34...\n",
              "25  Dans une copropriété de grand standing de 2012...  [dan, copropriet, grand, standing, 2012, bel, ..."
            ]
          },
          "metadata": {
            "tags": []
          },
          "execution_count": 66
        }
      ]
    },
    {
      "cell_type": "markdown",
      "metadata": {
        "id": "2WuINRvFqMK8"
      },
      "source": [
        "**TF-IDF (Term Frequency - Inverse Document Frequency)**:\n",
        "\n",
        "Cette méthode cherche à réduire les poids des mots qui apparaissent dans de nombreux documents du corpus et qui portent donc moins d'information que les mots plus rares."
      ]
    },
    {
      "cell_type": "code",
      "metadata": {
        "id": "q8hsWZ8eqPKk"
      },
      "source": [
        "vectorizer = TfidfVectorizer(max_features=5000,\n",
        "                             max_df=0.8,\n",
        "                             min_df=5,\n",
        "                             tokenizer=lambda x: x,\n",
        "                             lowercase=False)"
      ],
      "execution_count": 68,
      "outputs": []
    },
    {
      "cell_type": "code",
      "metadata": {
        "id": "06dkETcoqdnc"
      },
      "source": [
        "tf_idf_matrix = vectorizer.fit_transform(df_clean_description['tokens']).toarray()"
      ],
      "execution_count": 69,
      "outputs": []
    },
    {
      "cell_type": "code",
      "metadata": {
        "colab": {
          "base_uri": "https://localhost:8080/"
        },
        "id": "9wHBTgdJqgUF",
        "outputId": "d9c6f87a-07b5-41b7-d4c2-bff2ee84a0a4"
      },
      "source": [
        "tf_idf_matrix.shape"
      ],
      "execution_count": 70,
      "outputs": [
        {
          "output_type": "execute_result",
          "data": {
            "text/plain": [
              "(1045, 1329)"
            ]
          },
          "metadata": {
            "tags": []
          },
          "execution_count": 70
        }
      ]
    },
    {
      "cell_type": "code",
      "metadata": {
        "colab": {
          "base_uri": "https://localhost:8080/"
        },
        "id": "_PJJl-Bd0H2D",
        "outputId": "a9c7323b-f085-44d7-ba88-2a576d918181"
      },
      "source": [
        "# Standardizing the features\n",
        "tf_idf_matrix = StandardScaler().fit_transform(tf_idf_matrix)\n",
        "print(tf_idf_matrix.shape)"
      ],
      "execution_count": 71,
      "outputs": [
        {
          "output_type": "stream",
          "text": [
            "(1045, 1329)\n"
          ],
          "name": "stdout"
        }
      ]
    },
    {
      "cell_type": "markdown",
      "metadata": {
        "id": "GYbqLXHsqo6j"
      },
      "source": [
        "**On a fini avec le dataframe df_clean_description maintenant on normalise les valeurs numiriques de df_clean_num** "
      ]
    },
    {
      "cell_type": "code",
      "metadata": {
        "id": "1O5nnA1Lq3TS"
      },
      "source": [
        "def define_type(text, prop=None):\n",
        "  if prop == 'PROPERTY_TYPE':\n",
        "    if text == 'APARTMENT':\n",
        "      return 0\n",
        "    if text == \"PREMISES\":\n",
        "      return 1\n",
        "    if text == \"HOUSE\":\n",
        "      return 2"
      ],
      "execution_count": 72,
      "outputs": []
    },
    {
      "cell_type": "code",
      "metadata": {
        "id": "kCxaBuljq9ik"
      },
      "source": [
        "df_clean_num['PROPERTY_TYPE'] = df_clean_num['PROPERTY_TYPE'].apply(lambda x: define_type(x, 'PROPERTY_TYPE'))"
      ],
      "execution_count": 73,
      "outputs": []
    },
    {
      "cell_type": "code",
      "metadata": {
        "colab": {
          "base_uri": "https://localhost:8080/",
          "height": 206
        },
        "id": "echoEyyyrOh6",
        "outputId": "916ed1d8-c74e-4d46-85be-52f84a8f398d"
      },
      "source": [
        "df_clean_num.head()"
      ],
      "execution_count": 75,
      "outputs": [
        {
          "output_type": "execute_result",
          "data": {
            "text/html": [
              "<div>\n",
              "<style scoped>\n",
              "    .dataframe tbody tr th:only-of-type {\n",
              "        vertical-align: middle;\n",
              "    }\n",
              "\n",
              "    .dataframe tbody tr th {\n",
              "        vertical-align: top;\n",
              "    }\n",
              "\n",
              "    .dataframe thead th {\n",
              "        text-align: right;\n",
              "    }\n",
              "</style>\n",
              "<table border=\"1\" class=\"dataframe\">\n",
              "  <thead>\n",
              "    <tr style=\"text-align: right;\">\n",
              "      <th></th>\n",
              "      <th>PROPERTY_TYPE</th>\n",
              "      <th>SURFACE</th>\n",
              "      <th>ROOM_COUNT</th>\n",
              "      <th>PRICE</th>\n",
              "    </tr>\n",
              "  </thead>\n",
              "  <tbody>\n",
              "    <tr>\n",
              "      <th>1</th>\n",
              "      <td>0</td>\n",
              "      <td>48.00</td>\n",
              "      <td>2.0</td>\n",
              "      <td>429000.0</td>\n",
              "    </tr>\n",
              "    <tr>\n",
              "      <th>2</th>\n",
              "      <td>0</td>\n",
              "      <td>267.00</td>\n",
              "      <td>6.0</td>\n",
              "      <td>4970000.0</td>\n",
              "    </tr>\n",
              "    <tr>\n",
              "      <th>4</th>\n",
              "      <td>2</td>\n",
              "      <td>330.00</td>\n",
              "      <td>8.0</td>\n",
              "      <td>2790000.0</td>\n",
              "    </tr>\n",
              "    <tr>\n",
              "      <th>5</th>\n",
              "      <td>0</td>\n",
              "      <td>142.76</td>\n",
              "      <td>5.0</td>\n",
              "      <td>1420000.0</td>\n",
              "    </tr>\n",
              "    <tr>\n",
              "      <th>9</th>\n",
              "      <td>0</td>\n",
              "      <td>57.00</td>\n",
              "      <td>2.0</td>\n",
              "      <td>570000.0</td>\n",
              "    </tr>\n",
              "  </tbody>\n",
              "</table>\n",
              "</div>"
            ],
            "text/plain": [
              "   PROPERTY_TYPE  SURFACE  ROOM_COUNT      PRICE\n",
              "1              0    48.00         2.0   429000.0\n",
              "2              0   267.00         6.0  4970000.0\n",
              "4              2   330.00         8.0  2790000.0\n",
              "5              0   142.76         5.0  1420000.0\n",
              "9              0    57.00         2.0   570000.0"
            ]
          },
          "metadata": {
            "tags": []
          },
          "execution_count": 75
        }
      ]
    },
    {
      "cell_type": "code",
      "metadata": {
        "id": "q3-Tg1z0rVQb"
      },
      "source": [
        "# Standardizing the features\n",
        "df_clean_num_stand = StandardScaler().fit_transform(df_clean_num)\n",
        "df_clean_num_stand = pd.DataFrame(df_clean_num_stand, columns=['PROPERTY_TYPE', 'SURFACE', 'ROOM_COUNT', 'PRICE'])\n"
      ],
      "execution_count": 78,
      "outputs": []
    },
    {
      "cell_type": "code",
      "metadata": {
        "colab": {
          "base_uri": "https://localhost:8080/",
          "height": 206
        },
        "id": "hrhQiD_N3MeK",
        "outputId": "8e2bee33-bdff-43de-aa10-b4a1ce349089"
      },
      "source": [
        "df_clean_num_stand.head()"
      ],
      "execution_count": 79,
      "outputs": [
        {
          "output_type": "execute_result",
          "data": {
            "text/html": [
              "<div>\n",
              "<style scoped>\n",
              "    .dataframe tbody tr th:only-of-type {\n",
              "        vertical-align: middle;\n",
              "    }\n",
              "\n",
              "    .dataframe tbody tr th {\n",
              "        vertical-align: top;\n",
              "    }\n",
              "\n",
              "    .dataframe thead th {\n",
              "        text-align: right;\n",
              "    }\n",
              "</style>\n",
              "<table border=\"1\" class=\"dataframe\">\n",
              "  <thead>\n",
              "    <tr style=\"text-align: right;\">\n",
              "      <th></th>\n",
              "      <th>PROPERTY_TYPE</th>\n",
              "      <th>SURFACE</th>\n",
              "      <th>ROOM_COUNT</th>\n",
              "      <th>PRICE</th>\n",
              "    </tr>\n",
              "  </thead>\n",
              "  <tbody>\n",
              "    <tr>\n",
              "      <th>0</th>\n",
              "      <td>-0.327693</td>\n",
              "      <td>-0.460866</td>\n",
              "      <td>-0.528277</td>\n",
              "      <td>-0.504786</td>\n",
              "    </tr>\n",
              "    <tr>\n",
              "      <th>1</th>\n",
              "      <td>-0.327693</td>\n",
              "      <td>2.631408</td>\n",
              "      <td>1.903659</td>\n",
              "      <td>6.073835</td>\n",
              "    </tr>\n",
              "    <tr>\n",
              "      <th>2</th>\n",
              "      <td>4.178083</td>\n",
              "      <td>3.520967</td>\n",
              "      <td>3.119628</td>\n",
              "      <td>2.915633</td>\n",
              "    </tr>\n",
              "    <tr>\n",
              "      <th>3</th>\n",
              "      <td>-0.327693</td>\n",
              "      <td>0.877143</td>\n",
              "      <td>1.295675</td>\n",
              "      <td>0.930892</td>\n",
              "    </tr>\n",
              "    <tr>\n",
              "      <th>4</th>\n",
              "      <td>-0.327693</td>\n",
              "      <td>-0.333786</td>\n",
              "      <td>-0.528277</td>\n",
              "      <td>-0.300517</td>\n",
              "    </tr>\n",
              "  </tbody>\n",
              "</table>\n",
              "</div>"
            ],
            "text/plain": [
              "   PROPERTY_TYPE   SURFACE  ROOM_COUNT     PRICE\n",
              "0      -0.327693 -0.460866   -0.528277 -0.504786\n",
              "1      -0.327693  2.631408    1.903659  6.073835\n",
              "2       4.178083  3.520967    3.119628  2.915633\n",
              "3      -0.327693  0.877143    1.295675  0.930892\n",
              "4      -0.327693 -0.333786   -0.528277 -0.300517"
            ]
          },
          "metadata": {
            "tags": []
          },
          "execution_count": 79
        }
      ]
    },
    {
      "cell_type": "markdown",
      "metadata": {
        "id": "z44JxtrYrk2r"
      },
      "source": [
        "#Models"
      ]
    },
    {
      "cell_type": "code",
      "metadata": {
        "id": "UoiGyr9LrnRq"
      },
      "source": [
        "def kmeans(X, k):\n",
        "  \"\"\"\n",
        "  Input: X= data, k number of clusters\n",
        "  Output: separate X into k clusters\n",
        "  preds: np array for each sample which cluster he belongs to\n",
        "  \"\"\"\n",
        "  preds = KMeans(n_clusters=k, random_state=10).fit_predict(X)\n",
        "  return preds"
      ],
      "execution_count": 80,
      "outputs": []
    },
    {
      "cell_type": "code",
      "metadata": {
        "id": "tb2xYbHZrtY-"
      },
      "source": [
        "def best_k(data, number_clusters= 50):\n",
        "  \"\"\"\n",
        "  2 <= k < number_clusters\n",
        "  returns for each K the silhouette score.\n",
        "  and we lill choose the best \n",
        "  \"\"\"\n",
        "  scores = []\n",
        "  for i in range(20, number_clusters):\n",
        "    preds = kmeans(data, i)\n",
        "    score = silhouette_score(data, preds)\n",
        "    scores.append(score)\n",
        "    print(\"For n_clusters = {}, silhouette score is {})\".format(i, score))\n",
        "  return scores, number_clusters"
      ],
      "execution_count": 111,
      "outputs": []
    },
    {
      "cell_type": "code",
      "metadata": {
        "id": "zaSOieUWvodV"
      },
      "source": [
        "def plot_scores(scores, number_clusters):\n",
        "  x = np.arange(20, number_clusters)\n",
        "  y = np.array(scores)\n",
        "\n",
        "  X_Y_Spline = make_interp_spline(x, y)\n",
        "  X_ = np.linspace(x.min(), x.max(), 500)\n",
        "  Y_ = X_Y_Spline(X_)\n",
        "  \n",
        "  # Plotting the Graph\n",
        "  plt.plot(X_, Y_)\n",
        "  plt.xlabel(\"Number of clusters\")\n",
        "  plt.ylabel(\"silhouette score\")\n",
        "  plt.show()"
      ],
      "execution_count": 109,
      "outputs": []
    },
    {
      "cell_type": "markdown",
      "metadata": {
        "id": "l-bqBbQzywjT"
      },
      "source": [
        "**df_clean_num** \n",
        "* PROPERTY_TYPE\n",
        "* SURFACE\n",
        "* ROOM_COUNT\n",
        "* PRICE\n"
      ]
    },
    {
      "cell_type": "code",
      "metadata": {
        "colab": {
          "base_uri": "https://localhost:8080/"
        },
        "id": "Gk9csG0syNma",
        "outputId": "6fdbee94-c3c6-4c6d-9dfd-68218096900a"
      },
      "source": [
        "scores, nb_clusters = best_k(df_clean_num_stand, 40)"
      ],
      "execution_count": 84,
      "outputs": [
        {
          "output_type": "stream",
          "text": [
            "For n_clusters = 2, silhouette score is 0.7538819823725555)\n",
            "For n_clusters = 3, silhouette score is 0.5138213863564481)\n",
            "For n_clusters = 4, silhouette score is 0.5758609021288501)\n",
            "For n_clusters = 5, silhouette score is 0.5886682191126134)\n",
            "For n_clusters = 6, silhouette score is 0.5953545482236975)\n",
            "For n_clusters = 7, silhouette score is 0.5317104970734131)\n",
            "For n_clusters = 8, silhouette score is 0.5378850633049046)\n",
            "For n_clusters = 9, silhouette score is 0.5441852839279585)\n",
            "For n_clusters = 10, silhouette score is 0.5449787208784709)\n",
            "For n_clusters = 11, silhouette score is 0.5362655243693344)\n",
            "For n_clusters = 12, silhouette score is 0.5484897431445194)\n",
            "For n_clusters = 13, silhouette score is 0.5847943236407769)\n",
            "For n_clusters = 14, silhouette score is 0.584939365329056)\n",
            "For n_clusters = 15, silhouette score is 0.585654298829457)\n",
            "For n_clusters = 16, silhouette score is 0.5862835976224037)\n",
            "For n_clusters = 17, silhouette score is 0.5837926701077372)\n",
            "For n_clusters = 18, silhouette score is 0.5814235863607465)\n",
            "For n_clusters = 19, silhouette score is 0.5810512088602017)\n",
            "For n_clusters = 20, silhouette score is 0.5816261854655815)\n",
            "For n_clusters = 21, silhouette score is 0.5663058953979395)\n",
            "For n_clusters = 22, silhouette score is 0.5673986277569298)\n",
            "For n_clusters = 23, silhouette score is 0.5075827448856937)\n",
            "For n_clusters = 24, silhouette score is 0.5084207330796892)\n",
            "For n_clusters = 25, silhouette score is 0.5053182633067304)\n",
            "For n_clusters = 26, silhouette score is 0.5060010871146239)\n",
            "For n_clusters = 27, silhouette score is 0.5013235840160034)\n",
            "For n_clusters = 28, silhouette score is 0.5820730861039454)\n",
            "For n_clusters = 29, silhouette score is 0.5186381235036345)\n",
            "For n_clusters = 30, silhouette score is 0.5218668856541848)\n",
            "For n_clusters = 31, silhouette score is 0.5375646879540424)\n",
            "For n_clusters = 32, silhouette score is 0.5280585480763236)\n",
            "For n_clusters = 33, silhouette score is 0.5308377499335725)\n",
            "For n_clusters = 34, silhouette score is 0.5526288848676019)\n",
            "For n_clusters = 35, silhouette score is 0.5532245770761454)\n",
            "For n_clusters = 36, silhouette score is 0.552453115414257)\n",
            "For n_clusters = 37, silhouette score is 0.5504529528828505)\n",
            "For n_clusters = 38, silhouette score is 0.5497565931768723)\n",
            "For n_clusters = 39, silhouette score is 0.5176529777677606)\n"
          ],
          "name": "stdout"
        }
      ]
    },
    {
      "cell_type": "code",
      "metadata": {
        "colab": {
          "base_uri": "https://localhost:8080/",
          "height": 279
        },
        "id": "82VN8Ayn0nCE",
        "outputId": "26c844ed-8f0f-4ed3-c76a-d6c4177ebfaa"
      },
      "source": [
        "plot_scores(scores, number_clusters=40)"
      ],
      "execution_count": 87,
      "outputs": [
        {
          "output_type": "display_data",
          "data": {
            "image/png": "[encoded data removed]",
            "text/plain": [
              "<Figure size 432x288 with 1 Axes>"
            ]
          },
          "metadata": {
            "tags": [],
            "needs_background": "light"
          }
        }
      ]
    },
    {
      "cell_type": "code",
      "metadata": {
        "id": "2vg193XH358y"
      },
      "source": [
        "preds = kmeans(df_clean_num_stand, 14)"
      ],
      "execution_count": 89,
      "outputs": []
    },
    {
      "cell_type": "code",
      "metadata": {
        "colab": {
          "base_uri": "https://localhost:8080/"
        },
        "id": "SfLzsoQC08-i",
        "outputId": "ebc78436-9e9d-4e1e-e775-80abada68cb6"
      },
      "source": [
        "#Transform the data\n",
        "pca = PCA(2)\n",
        "df = pca.fit_transform(df_clean_num_stand)\n",
        " \n",
        "df.shape"
      ],
      "execution_count": 94,
      "outputs": [
        {
          "output_type": "execute_result",
          "data": {
            "text/plain": [
              "(1045, 2)"
            ]
          },
          "metadata": {
            "tags": []
          },
          "execution_count": 94
        }
      ]
    },
    {
      "cell_type": "code",
      "metadata": {
        "colab": {
          "base_uri": "https://localhost:8080/",
          "height": 374
        },
        "id": "_jnB1MKP1BOK",
        "outputId": "2417e5d5-63c9-45bf-c754-4ffb5c9a14f8"
      },
      "source": [
        "#Getting unique labels\n",
        " \n",
        "u_labels = np.unique(preds)\n",
        " \n",
        "#plotting the results:\n",
        "plt.figure(figsize=(10, 6))\n",
        "for i in u_labels:\n",
        "  filtered_label = df[preds == i]\n",
        "  plt.scatter(filtered_label[:,0] , filtered_label[:,1], label=i  )\n",
        "plt.legend()\n",
        "plt.show()"
      ],
      "execution_count": 95,
      "outputs": [
        {
          "output_type": "display_data",
          "data": {
            "image/png": "[encoded data removed]",
            "text/plain": [
              "<Figure size 720x432 with 1 Axes>"
            ]
          },
          "metadata": {
            "tags": [],
            "needs_background": "light"
          }
        }
      ]
    },
    {
      "cell_type": "markdown",
      "metadata": {
        "id": "MvMgoNq51KJT"
      },
      "source": [
        "**df_clean_description** \n",
        "* DESCRIPTION\n"
      ]
    },
    {
      "cell_type": "code",
      "metadata": {
        "colab": {
          "base_uri": "https://localhost:8080/"
        },
        "id": "pZ6-QAEp1RLy",
        "outputId": "10bf32dc-0a2f-4fd7-ae48-06c58e8cd3d8"
      },
      "source": [
        "#Transform the data\n",
        "pca = PCA(2)\n",
        "df_desc = pca.fit_transform(tf_idf_matrix)\n",
        " \n",
        "df_desc.shape"
      ],
      "execution_count": 96,
      "outputs": [
        {
          "output_type": "execute_result",
          "data": {
            "text/plain": [
              "(1045, 2)"
            ]
          },
          "metadata": {
            "tags": []
          },
          "execution_count": 96
        }
      ]
    },
    {
      "cell_type": "code",
      "metadata": {
        "colab": {
          "base_uri": "https://localhost:8080/"
        },
        "id": "IT4paf0R1dcr",
        "outputId": "1bc271c9-ab36-42ba-86b1-ca924b68129a"
      },
      "source": [
        "scores, nb_clusters = best_k(tf_idf_matrix)"
      ],
      "execution_count": 112,
      "outputs": [
        {
          "output_type": "stream",
          "text": [
            "For n_clusters = 20, silhouette score is 0.08401274638946692)\n",
            "For n_clusters = 21, silhouette score is 0.08077310271541452)\n",
            "For n_clusters = 22, silhouette score is 0.0894300513557551)\n",
            "For n_clusters = 23, silhouette score is 0.09463995463978538)\n",
            "For n_clusters = 24, silhouette score is 0.10082434079164025)\n",
            "For n_clusters = 25, silhouette score is 0.10574288079018751)\n",
            "For n_clusters = 26, silhouette score is 0.1112451247479592)\n",
            "For n_clusters = 27, silhouette score is 0.11585952234729663)\n",
            "For n_clusters = 28, silhouette score is 0.1205135153196995)\n",
            "For n_clusters = 29, silhouette score is 0.12366354094476327)\n",
            "For n_clusters = 30, silhouette score is 0.1270964940161266)\n",
            "For n_clusters = 31, silhouette score is 0.12263242649536432)\n",
            "For n_clusters = 32, silhouette score is 0.08216627032475995)\n",
            "For n_clusters = 33, silhouette score is 0.08567664823920314)\n",
            "For n_clusters = 34, silhouette score is 0.1362577856983079)\n",
            "For n_clusters = 35, silhouette score is 0.13383270328064092)\n",
            "For n_clusters = 36, silhouette score is 0.14455572750273846)\n",
            "For n_clusters = 37, silhouette score is 0.14876941970119778)\n",
            "For n_clusters = 38, silhouette score is 0.1547365329937494)\n",
            "For n_clusters = 39, silhouette score is 0.15781407727697547)\n",
            "For n_clusters = 40, silhouette score is 0.1604446309544912)\n",
            "For n_clusters = 41, silhouette score is 0.1598750468504885)\n",
            "For n_clusters = 42, silhouette score is 0.16777224547839353)\n",
            "For n_clusters = 43, silhouette score is 0.1658098786663245)\n",
            "For n_clusters = 44, silhouette score is 0.17410435665998855)\n",
            "For n_clusters = 45, silhouette score is 0.17900204548367546)\n",
            "For n_clusters = 46, silhouette score is 0.18444833778210787)\n",
            "For n_clusters = 47, silhouette score is 0.18988231112862827)\n",
            "For n_clusters = 48, silhouette score is 0.18762840921444923)\n",
            "For n_clusters = 49, silhouette score is 0.19556418446748458)\n"
          ],
          "name": "stdout"
        }
      ]
    },
    {
      "cell_type": "code",
      "metadata": {
        "colab": {
          "base_uri": "https://localhost:8080/",
          "height": 281
        },
        "id": "d3q0o1fW2BeW",
        "outputId": "ba2046c2-7ca9-4236-be20-7245409959c8"
      },
      "source": [
        "plot_scores(scores, number_clusters=50)"
      ],
      "execution_count": 113,
      "outputs": [
        {
          "output_type": "display_data",
          "data": {
            "image/png": "[encoded data removed]",
            "text/plain": [
              "<Figure size 432x288 with 1 Axes>"
            ]
          },
          "metadata": {
            "tags": [],
            "needs_background": "light"
          }
        }
      ]
    },
    {
      "cell_type": "code",
      "metadata": {
        "id": "ENWGu06t5M6j"
      },
      "source": [
        "preds_desc = kmeans(df_clean_num_stand, 49)"
      ],
      "execution_count": 114,
      "outputs": []
    },
    {
      "cell_type": "code",
      "metadata": {
        "colab": {
          "base_uri": "https://localhost:8080/",
          "height": 374
        },
        "id": "-ewceokP2F6C",
        "outputId": "1dbf45f4-2320-4e73-80b1-18f238fadfc9"
      },
      "source": [
        "#Getting unique labels\n",
        " \n",
        "u_labels = np.unique(preds_desc)\n",
        " \n",
        "#plotting the results:\n",
        "plt.figure(figsize=(10, 6))\n",
        "for i in u_labels:\n",
        "  filtered_label = df_desc[preds_desc == i]\n",
        "  plt.scatter(filtered_label[:,0] , filtered_label[:,1], label=i  )\n",
        "#plt.legend()\n",
        "plt.show()"
      ],
      "execution_count": 116,
      "outputs": [
        {
          "output_type": "display_data",
          "data": {
            "image/png": "[encoded data removed]",
            "text/plain": [
              "<Figure size 720x432 with 1 Axes>"
            ]
          },
          "metadata": {
            "tags": [],
            "needs_background": "light"
          }
        }
      ]
    },
    {
      "cell_type": "code",
      "metadata": {
        "id": "cfndKzQW5eKR"
      },
      "source": [
        ""
      ],
      "execution_count": null,
      "outputs": []
    },
    {
      "cell_type": "markdown",
      "metadata": {
        "id": "N7HBK-ZY9tGm"
      },
      "source": [
        ""
      ]
    },
    {
      "cell_type": "markdown",
      "metadata": {
        "id": "dDxSVttmApuU"
      },
      "source": [
        "#Améliorations"
      ]
    },
    {
      "cell_type": "markdown",
      "metadata": {
        "id": "H0GRlbKbAxIj"
      },
      "source": [
        "* Combiner les descriptions et les colonnes numériques.\n",
        "* Représenter les descriptions avec des embeddings. \n",
        "* Remplacer les données manquantes en utilisant (Amelia, knn,...) "
      ]
    }
  ]
}